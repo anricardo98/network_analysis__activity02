{
  "nbformat": 4,
  "nbformat_minor": 0,
  "metadata": {
    "colab": {
      "name": "malha_aerea_brasileira__andre_ricardo.ipynb",
      "provenance": []
    },
    "kernelspec": {
      "name": "python3",
      "display_name": "Python 3"
    },
    "language_info": {
      "name": "python"
    }
  },
  "cells": [
    {
      "cell_type": "markdown",
      "metadata": {
        "id": "TqF9pvPMxO5r"
      },
      "source": [
        "Atividade - Analise de Redes\n",
        "\n",
        "Aluno: André Ricardo Cândido Silva"
      ]
    },
    {
      "cell_type": "code",
      "metadata": {
        "colab": {
          "base_uri": "https://localhost:8080/",
          "height": 717
        },
        "id": "MLxJ1qIhJfiB",
        "outputId": "cb200f2d-79d2-4600-fe41-1aefe6e4d2e9"
      },
      "source": [
        "!pip install nxviz"
      ],
      "execution_count": 1,
      "outputs": [
        {
          "output_type": "stream",
          "text": [
            "Collecting nxviz\n",
            "  Downloading nxviz-0.6.3-py3-none-any.whl (20 kB)\n",
            "Requirement already satisfied: palettable>=3.3.0 in /usr/local/lib/python3.7/dist-packages (from nxviz) (3.3.0)\n",
            "Requirement already satisfied: more-itertools>=8.6.0 in /usr/local/lib/python3.7/dist-packages (from nxviz) (8.8.0)\n",
            "Collecting pandas>=1.2.0\n",
            "  Downloading pandas-1.3.0-cp37-cp37m-manylinux_2_5_x86_64.manylinux1_x86_64.whl (10.8 MB)\n",
            "\u001b[K     |████████████████████████████████| 10.8 MB 9.2 MB/s \n",
            "\u001b[?25hRequirement already satisfied: seaborn>=0.11.1 in /usr/local/lib/python3.7/dist-packages (from nxviz) (0.11.1)\n",
            "Requirement already satisfied: networkx>=2.5 in /usr/local/lib/python3.7/dist-packages (from nxviz) (2.5.1)\n",
            "Collecting matplotlib>=3.3.3\n",
            "  Downloading matplotlib-3.4.2-cp37-cp37m-manylinux1_x86_64.whl (10.3 MB)\n",
            "\u001b[K     |████████████████████████████████| 10.3 MB 53.2 MB/s \n",
            "\u001b[?25hRequirement already satisfied: numpy>=1.19.4 in /usr/local/lib/python3.7/dist-packages (from nxviz) (1.19.5)\n",
            "Requirement already satisfied: pyparsing>=2.2.1 in /usr/local/lib/python3.7/dist-packages (from matplotlib>=3.3.3->nxviz) (2.4.7)\n",
            "Requirement already satisfied: kiwisolver>=1.0.1 in /usr/local/lib/python3.7/dist-packages (from matplotlib>=3.3.3->nxviz) (1.3.1)\n",
            "Requirement already satisfied: pillow>=6.2.0 in /usr/local/lib/python3.7/dist-packages (from matplotlib>=3.3.3->nxviz) (7.1.2)\n",
            "Requirement already satisfied: cycler>=0.10 in /usr/local/lib/python3.7/dist-packages (from matplotlib>=3.3.3->nxviz) (0.10.0)\n",
            "Requirement already satisfied: python-dateutil>=2.7 in /usr/local/lib/python3.7/dist-packages (from matplotlib>=3.3.3->nxviz) (2.8.1)\n",
            "Requirement already satisfied: six in /usr/local/lib/python3.7/dist-packages (from cycler>=0.10->matplotlib>=3.3.3->nxviz) (1.15.0)\n",
            "Requirement already satisfied: decorator<5,>=4.3 in /usr/local/lib/python3.7/dist-packages (from networkx>=2.5->nxviz) (4.4.2)\n",
            "Requirement already satisfied: pytz>=2017.3 in /usr/local/lib/python3.7/dist-packages (from pandas>=1.2.0->nxviz) (2018.9)\n",
            "Requirement already satisfied: scipy>=1.0 in /usr/local/lib/python3.7/dist-packages (from seaborn>=0.11.1->nxviz) (1.4.1)\n",
            "Installing collected packages: pandas, matplotlib, nxviz\n",
            "  Attempting uninstall: pandas\n",
            "    Found existing installation: pandas 1.1.5\n",
            "    Uninstalling pandas-1.1.5:\n",
            "      Successfully uninstalled pandas-1.1.5\n",
            "  Attempting uninstall: matplotlib\n",
            "    Found existing installation: matplotlib 3.2.2\n",
            "    Uninstalling matplotlib-3.2.2:\n",
            "      Successfully uninstalled matplotlib-3.2.2\n",
            "\u001b[31mERROR: pip's dependency resolver does not currently take into account all the packages that are installed. This behaviour is the source of the following dependency conflicts.\n",
            "google-colab 1.0.0 requires pandas~=1.1.0; python_version >= \"3.0\", but you have pandas 1.3.0 which is incompatible.\n",
            "albumentations 0.1.12 requires imgaug<0.2.7,>=0.2.5, but you have imgaug 0.2.9 which is incompatible.\u001b[0m\n",
            "Successfully installed matplotlib-3.4.2 nxviz-0.6.3 pandas-1.3.0\n"
          ],
          "name": "stdout"
        },
        {
          "output_type": "display_data",
          "data": {
            "application/vnd.colab-display-data+json": {
              "pip_warning": {
                "packages": [
                  "matplotlib",
                  "mpl_toolkits",
                  "pandas"
                ]
              }
            }
          },
          "metadata": {
            "tags": []
          }
        }
      ]
    },
    {
      "cell_type": "code",
      "metadata": {
        "id": "mC4CXMACJzAG"
      },
      "source": [
        "import networkx as nx\n",
        "import matplotlib.pyplot as plt\n",
        "import nxviz"
      ],
      "execution_count": 2,
      "outputs": []
    },
    {
      "cell_type": "code",
      "metadata": {
        "colab": {
          "base_uri": "https://localhost:8080/"
        },
        "id": "daB43zWeoF3N",
        "outputId": "de363bad-f280-42f6-a0bb-3e3481f6b887"
      },
      "source": [
        "# download the dataset \n",
        "!gdown https://drive.google.com/uc?id=1NyK9Urvi29QKA8D_K7fXT2CbytQ6kEgO"
      ],
      "execution_count": 5,
      "outputs": [
        {
          "output_type": "stream",
          "text": [
            "Downloading...\n",
            "From: https://drive.google.com/uc?id=1NyK9Urvi29QKA8D_K7fXT2CbytQ6kEgO\n",
            "To: /content/aeroportos_brasileiros.graphml\n",
            "\r  0% 0.00/40.4k [00:00<?, ?B/s]\r100% 40.4k/40.4k [00:00<00:00, 1.28MB/s]\n"
          ],
          "name": "stdout"
        }
      ]
    },
    {
      "cell_type": "markdown",
      "metadata": {
        "id": "6ei0mcOMpONR"
      },
      "source": [
        "## Dataset: Aeroportos Brasileiros\n",
        "\n",
        "Gerado a partir dos dados dispostos no site \"Openflights\". Montados fazendo uso da biblioteca \"Pandas\" para o tratamento dos arquivos csv e utilizando a biblioteca networkx para a geração da rede e passagem do arquivo para o formato \"graphml\".\n",
        "\n",
        "Obs: esses dados podem se encontrar defasados, não condizendo com a realidade do ano de 2021. "
      ]
    },
    {
      "cell_type": "code",
      "metadata": {
        "id": "SPYuOxlxJtr_"
      },
      "source": [
        "G = nx.read_graphml('aeroportos_brasileiros.graphml')"
      ],
      "execution_count": 6,
      "outputs": []
    },
    {
      "cell_type": "markdown",
      "metadata": {
        "id": "m5J-V7j0qBJS"
      },
      "source": [
        "Neste arquivo, os nós são os aeroportos representados pelos seu código IATA, uma representação deste com três letras. Cada nó apresenta informações a respeito desses aeroportos, sendo elas: o nome, a cidade, o código IATA, latitude e longitude."
      ]
    },
    {
      "cell_type": "code",
      "metadata": {
        "colab": {
          "base_uri": "https://localhost:8080/"
        },
        "id": "vbSIe2IGJ6T-",
        "outputId": "5c6e46d7-0708-4f5b-be16-6f31b7b82f7d"
      },
      "source": [
        "#Os nós do conjunto de dados\n",
        "G.nodes()"
      ],
      "execution_count": 7,
      "outputs": [
        {
          "output_type": "execute_result",
          "data": {
            "text/plain": [
              "NodeView(('AUX', 'PMW', 'BRA', 'BSB', 'SSA', 'OPS', 'RAO', 'CAC', 'GRU', 'CGB', 'GYN', 'CGR', 'DOU', 'GIG', 'UBA', 'UDI', 'VDC', 'PLU', 'SJP', 'CWB', 'POA', 'GNM', 'LAZ', 'AAX', 'POJ', 'AFL', 'AJU', 'MCZ', 'REC', 'VCP', 'AQA', 'ARU', 'ATM', 'BEL', 'STM', 'MAB', 'BAZ', 'MAO', 'CKS', 'CNF', 'FOR', 'IMP', 'MCP', 'BPS', 'SDU', 'BVB', 'BVH', 'BYO', 'CAW', 'CCM', 'CFB', 'JPR', 'LDB', 'MGF', 'OAL', 'PVH', 'ROO', 'CGH', 'CMG', 'CIZ', 'CLV', 'CPV', 'IPN', 'IZA', 'MOC', 'SLZ', 'VIX', 'PNZ', 'CXJ', 'IGU', 'ERN', 'TFF', 'FEN', 'NAT', 'FLN', 'JPA', 'PHB', 'THE', 'IOS', 'NVT', 'GVR', 'IRZ', 'ITB', 'JDO', 'JOI', 'JTC', 'MII', 'LEC', 'TUR', 'PIN', 'TBT', 'MEA', 'OLC', 'PAV', 'PET', 'PFB', 'SJK', 'RIA', 'XAP', 'PPB', 'RBR', 'RVD', 'SJL', 'TMT', 'CZS', 'ORX', 'BVS', 'MEU', 'CFC', 'JCB', 'GPB', 'ERM', 'GEL', 'SRA', 'URG', 'CDJ', 'CMP', 'GRP', 'MQH', 'OIA', 'RDC', 'STZ', 'SXO', 'SXX'))"
            ]
          },
          "metadata": {
            "tags": []
          },
          "execution_count": 7
        }
      ]
    },
    {
      "cell_type": "code",
      "metadata": {
        "colab": {
          "base_uri": "https://localhost:8080/"
        },
        "id": "21mBcbRHqY3-",
        "outputId": "b261fc74-0352-4587-beb8-da6784c43ef4"
      },
      "source": [
        "#Mostragem dos dados presentes em um nó\n",
        "G.nodes['AUX']"
      ],
      "execution_count": 9,
      "outputs": [
        {
          "output_type": "execute_result",
          "data": {
            "text/plain": [
              "{'cidade': 'Araguaina',\n",
              " 'codigo': 'AUX',\n",
              " 'latitude': '-7.22787',\n",
              " 'longitude': -48.240501,\n",
              " 'nome': 'Araguaína Airport'}"
            ]
          },
          "metadata": {
            "tags": []
          },
          "execution_count": 9
        }
      ]
    },
    {
      "cell_type": "markdown",
      "metadata": {
        "id": "8p5GiED6qzAk"
      },
      "source": [
        "Cada link entre dois nós representa a presença de uma rota existente entre dois aeroportos. Por se tratar de uma representação de ligação entre dois aeroportos o grafo gerado foi um não-direcionado."
      ]
    },
    {
      "cell_type": "code",
      "metadata": {
        "colab": {
          "base_uri": "https://localhost:8080/"
        },
        "id": "6k5o8fmmrLN8",
        "outputId": "1f432cca-87bc-41b1-ad8a-67d30e18379a"
      },
      "source": [
        "G.edges()"
      ],
      "execution_count": 10,
      "outputs": [
        {
          "output_type": "execute_result",
          "data": {
            "text/plain": [
              "EdgeView([('AUX', 'PMW'), ('AUX', 'BSB'), ('AUX', 'MAB'), ('PMW', 'GYN'), ('PMW', 'BSB'), ('BRA', 'BSB'), ('BRA', 'SSA'), ('BSB', 'OPS'), ('BSB', 'RAO'), ('BSB', 'CGB'), ('BSB', 'CNF'), ('BSB', 'GRU'), ('BSB', 'MAB'), ('BSB', 'UDI'), ('BSB', 'VCP'), ('BSB', 'CWB'), ('BSB', 'BEL'), ('BSB', 'CGH'), ('BSB', 'CGR'), ('BSB', 'FOR'), ('BSB', 'GIG'), ('BSB', 'GYN'), ('BSB', 'IMP'), ('BSB', 'JPA'), ('BSB', 'MAO'), ('BSB', 'MCZ'), ('BSB', 'NAT'), ('BSB', 'POA'), ('BSB', 'PVH'), ('BSB', 'RBR'), ('BSB', 'REC'), ('BSB', 'SDU'), ('BSB', 'SLZ'), ('BSB', 'SSA'), ('BSB', 'THE'), ('BSB', 'FLN'), ('BSB', 'VIX'), ('BSB', 'AJU'), ('BSB', 'IOS'), ('BSB', 'JDO'), ('BSB', 'PNZ'), ('BSB', 'MQH'), ('BSB', 'SJP'), ('SSA', 'VDC'), ('SSA', 'GNM'), ('SSA', 'LAZ'), ('SSA', 'AJU'), ('SSA', 'BPS'), ('SSA', 'CNF'), ('SSA', 'GRU'), ('SSA', 'IOS'), ('SSA', 'JPA'), ('SSA', 'LEC'), ('SSA', 'PAV'), ('SSA', 'REC'), ('SSA', 'VCP'), ('SSA', 'VIX'), ('SSA', 'CGH'), ('SSA', 'CPV'), ('SSA', 'FOR'), ('SSA', 'GIG'), ('SSA', 'MCZ'), ('SSA', 'NAT'), ('SSA', 'CWB'), ('SSA', 'PNZ'), ('SSA', 'SDU'), ('OPS', 'CGB'), ('RAO', 'GIG'), ('RAO', 'GRU'), ('RAO', 'GYN'), ('RAO', 'PLU'), ('RAO', 'SJP'), ('RAO', 'UDI'), ('RAO', 'CNF'), ('RAO', 'VCP'), ('RAO', 'CGH'), ('RAO', 'CWB'), ('RAO', 'SDU'), ('CAC', 'GRU'), ('CAC', 'CWB'), ('CAC', 'VCP'), ('GRU', 'DOU'), ('GRU', 'UBA'), ('GRU', 'UDI'), ('GRU', 'VDC'), ('GRU', 'ARU'), ('GRU', 'CGB'), ('GRU', 'CGR'), ('GRU', 'CNF'), ('GRU', 'CWB'), ('GRU', 'GYN'), ('GRU', 'IOS'), ('GRU', 'IPN'), ('GRU', 'NVT'), ('GRU', 'PLU'), ('GRU', 'POA'), ('GRU', 'REC'), ('GRU', 'SDU'), ('GRU', 'MAO'), ('GRU', 'GIG'), ('GRU', 'AJU'), ('GRU', 'BEL'), ('GRU', 'BPS'), ('GRU', 'FLN'), ('GRU', 'FOR'), ('GRU', 'IGU'), ('GRU', 'JPA'), ('GRU', 'LDB'), ('GRU', 'MCZ'), ('GRU', 'MGF'), ('GRU', 'NAT'), ('GRU', 'SLZ'), ('GRU', 'THE'), ('GRU', 'VIX'), ('GRU', 'JOI'), ('GRU', 'SJP'), ('GRU', 'JDO'), ('GRU', 'PFB'), ('CGB', 'GYN'), ('CGB', 'AFL'), ('CGB', 'BVH'), ('CGB', 'CGR'), ('CGB', 'CNF'), ('CGB', 'JPR'), ('CGB', 'LDB'), ('CGB', 'MGF'), ('CGB', 'OAL'), ('CGB', 'PVH'), ('CGB', 'ROO'), ('CGB', 'SJP'), ('CGB', 'VCP'), ('CGB', 'CGH'), ('CGB', 'GIG'), ('GYN', 'UDI'), ('GYN', 'CNF'), ('GYN', 'SDU'), ('GYN', 'VCP'), ('GYN', 'CGH'), ('GYN', 'GIG'), ('CGR', 'DOU'), ('CGR', 'CMG'), ('CGR', 'VCP'), ('CGR', 'CGH'), ('CGR', 'GIG'), ('CGR', 'MGF'), ('CGR', 'CWB'), ('DOU', 'VCP'), ('GIG', 'VCP'), ('GIG', 'CWB'), ('GIG', 'AJU'), ('GIG', 'BEL'), ('GIG', 'CGH'), ('GIG', 'CNF'), ('GIG', 'FLN'), ('GIG', 'FOR'), ('GIG', 'IGU'), ('GIG', 'JPA'), ('GIG', 'MAO'), ('GIG', 'MCZ'), ('GIG', 'NAT'), ('GIG', 'NVT'), ('GIG', 'POA'), ('GIG', 'REC'), ('GIG', 'SLZ'), ('GIG', 'VIX'), ('UBA', 'UDI'), ('UBA', 'CNF'), ('UBA', 'VCP'), ('UDI', 'CNF'), ('UDI', 'PLU'), ('UDI', 'VCP'), ('UDI', 'CGH'), ('VDC', 'CNF'), ('VDC', 'PLU'), ('PLU', 'CFB'), ('PLU', 'GVR'), ('PLU', 'IPN'), ('PLU', 'MOC'), ('PLU', 'AAX'), ('PLU', 'POJ'), ('PLU', 'SJK'), ('PLU', 'VCP'), ('SJP', 'VCP'), ('SJP', 'CGH'), ('CWB', 'POA'), ('CWB', 'CNF'), ('CWB', 'CXJ'), ('CWB', 'IGU'), ('CWB', 'LDB'), ('CWB', 'MGF'), ('CWB', 'SDU'), ('CWB', 'VCP'), ('CWB', 'CGH'), ('CWB', 'CFC'), ('CWB', 'FLN'), ('CWB', 'GPB'), ('CWB', 'XAP'), ('POA', 'CNF'), ('POA', 'IGU'), ('POA', 'JOI'), ('POA', 'LDB'), ('POA', 'MGF'), ('POA', 'NVT'), ('POA', 'PET'), ('POA', 'PFB'), ('POA', 'RIA'), ('POA', 'SDU'), ('POA', 'VCP'), ('POA', 'XAP'), ('POA', 'CGH'), ('POA', 'FLN'), ('POA', 'GEL'), ('POA', 'ERM'), ('POA', 'SRA'), ('GNM', 'LAZ'), ('AAX', 'POJ'), ('AJU', 'MCZ'), ('AJU', 'REC'), ('AJU', 'VCP'), ('AJU', 'SDU'), ('MCZ', 'REC'), ('MCZ', 'VCP'), ('REC', 'CNF'), ('REC', 'FEN'), ('REC', 'FOR'), ('REC', 'NAT'), ('REC', 'THE'), ('REC', 'VCP'), ('REC', 'JDO'), ('REC', 'PNZ'), ('VCP', 'AQA'), ('VCP', 'ARU'), ('VCP', 'BPS'), ('VCP', 'BYO'), ('VCP', 'CCM'), ('VCP', 'CFB'), ('VCP', 'CLV'), ('VCP', 'CNF'), ('VCP', 'CXJ'), ('VCP', 'FLN'), ('VCP', 'FOR'), ('VCP', 'IGU'), ('VCP', 'IOS'), ('VCP', 'IZA'), ('VCP', 'JDO'), ('VCP', 'JOI'), ('VCP', 'JPA'), ('VCP', 'JTC'), ('VCP', 'LDB'), ('VCP', 'MAO'), ('VCP', 'MEA'), ('VCP', 'MGF'), ('VCP', 'MII'), ('VCP', 'NAT'), ('VCP', 'NVT'), ('VCP', 'PFB'), ('VCP', 'PPB'), ('VCP', 'RVD'), ('VCP', 'SDU'), ('VCP', 'THE'), ('VCP', 'VIX'), ('VCP', 'XAP'), ('ATM', 'BEL'), ('ATM', 'STM'), ('ATM', 'ORX'), ('BEL', 'CKS'), ('BEL', 'CNF'), ('BEL', 'FOR'), ('BEL', 'IMP'), ('BEL', 'MAB'), ('BEL', 'MAO'), ('BEL', 'MCP'), ('BEL', 'STM'), ('BEL', 'TUR'), ('BEL', 'SLZ'), ('BEL', 'BVS'), ('BEL', 'MEU'), ('STM', 'ITB'), ('STM', 'MAO'), ('STM', 'TMT'), ('STM', 'MEU'), ('STM', 'ORX'), ('MAB', 'CKS'), ('MAB', 'TUR'), ('MAB', 'IMP'), ('MAB', 'OIA'), ('MAB', 'RDC'), ('BAZ', 'MAO'), ('MAO', 'BVB'), ('MAO', 'CIZ'), ('MAO', 'CNF'), ('MAO', 'PIN'), ('MAO', 'PVH'), ('MAO', 'TBT'), ('MAO', 'TFF'), ('MAO', 'FOR'), ('CKS', 'CNF'), ('CKS', 'OIA'), ('CNF', 'BPS'), ('CNF', 'CPV'), ('CNF', 'FOR'), ('CNF', 'IMP'), ('CNF', 'IPN'), ('CNF', 'IZA'), ('CNF', 'MOC'), ('CNF', 'SDU'), ('CNF', 'SLZ'), ('CNF', 'VIX'), ('CNF', 'NAT'), ('CNF', 'PNZ'), ('CNF', 'CGH'), ('CNF', 'IOS'), ('FOR', 'JPA'), ('FOR', 'NAT'), ('FOR', 'PHB'), ('FOR', 'SLZ'), ('FOR', 'THE'), ('FOR', 'JDO'), ('IMP', 'SLZ'), ('BPS', 'SDU'), ('BPS', 'CGH'), ('SDU', 'CAW'), ('SDU', 'CGH'), ('SDU', 'MEA'), ('SDU', 'SJK'), ('SDU', 'VIX'), ('SDU', 'IOS'), ('SDU', 'CFB'), ('CAW', 'MEA'), ('CAW', 'VIX'), ('CCM', 'FLN'), ('LDB', 'MGF'), ('LDB', 'CGH'), ('MGF', 'CGH'), ('PVH', 'RBR'), ('CGH', 'CLV'), ('CGH', 'CXJ'), ('CGH', 'FLN'), ('CGH', 'JOI'), ('CGH', 'JTC'), ('CGH', 'NVT'), ('CGH', 'PPB'), ('CGH', 'VIX'), ('CGH', 'IGU'), ('CGH', 'IOS'), ('CPV', 'PNZ'), ('SLZ', 'THE'), ('ERN', 'TFF'), ('TFF', 'IRZ'), ('TFF', 'OLC'), ('TFF', 'SJL'), ('FEN', 'NAT'), ('FLN', 'XAP'), ('FLN', 'JCB'), ('PHB', 'THE'), ('JTC', 'MII'), ('PFB', 'ERM'), ('RIA', 'GEL'), ('RIA', 'URG'), ('RBR', 'CZS'), ('ORX', 'MEU'), ('CFC', 'JCB'), ('JCB', 'ERM'), ('GEL', 'SRA'), ('CDJ', 'CMP'), ('CDJ', 'RDC'), ('GRP', 'MQH'), ('GRP', 'SXO'), ('OIA', 'SXX'), ('STZ', 'SXO')])"
            ]
          },
          "metadata": {
            "tags": []
          },
          "execution_count": 10
        }
      ]
    },
    {
      "cell_type": "markdown",
      "metadata": {
        "id": "g4PU0jFZrRkm"
      },
      "source": [
        "Sendo assim, vamos observar quantos aeroportos e rotas possuímos:\n"
      ]
    },
    {
      "cell_type": "code",
      "metadata": {
        "colab": {
          "base_uri": "https://localhost:8080/"
        },
        "id": "ikY4eidXrVga",
        "outputId": "83813f2f-bac5-47a8-ff6e-219741d67624"
      },
      "source": [
        "#Número de aeroportos\n",
        "G.number_of_nodes()"
      ],
      "execution_count": 11,
      "outputs": [
        {
          "output_type": "execute_result",
          "data": {
            "text/plain": [
              "124"
            ]
          },
          "metadata": {
            "tags": []
          },
          "execution_count": 11
        }
      ]
    },
    {
      "cell_type": "code",
      "metadata": {
        "colab": {
          "base_uri": "https://localhost:8080/"
        },
        "id": "Q4TGZZCmrgBu",
        "outputId": "3e32d65c-8a45-4634-ccea-5560b6922a29"
      },
      "source": [
        "#Número de rotas\n",
        "G.number_of_edges()"
      ],
      "execution_count": 12,
      "outputs": [
        {
          "output_type": "execute_result",
          "data": {
            "text/plain": [
              "370"
            ]
          },
          "metadata": {
            "tags": []
          },
          "execution_count": 12
        }
      ]
    },
    {
      "cell_type": "markdown",
      "metadata": {
        "id": "4sl7kIs0uqT2"
      },
      "source": [
        "### Algumas verificações que podemos fazer:\n",
        "\n"
      ]
    },
    {
      "cell_type": "markdown",
      "metadata": {
        "id": "nzMd6YN2uyn3"
      },
      "source": [
        "1. Existe algum voo direto em Natal-RN (NAT) e Porto Alegre - RS (POA)?"
      ]
    },
    {
      "cell_type": "code",
      "metadata": {
        "colab": {
          "base_uri": "https://localhost:8080/"
        },
        "id": "VSqSkXoKvEun",
        "outputId": "fffc64cf-5f68-4858-b9a7-5e2e38553ba2"
      },
      "source": [
        "'POA' in set(nx.neighbors(G, 'NAT'))"
      ],
      "execution_count": 13,
      "outputs": [
        {
          "output_type": "execute_result",
          "data": {
            "text/plain": [
              "False"
            ]
          },
          "metadata": {
            "tags": []
          },
          "execution_count": 13
        }
      ]
    },
    {
      "cell_type": "markdown",
      "metadata": {
        "id": "j42QxI2cvPaW"
      },
      "source": [
        "Como verificado na consulta, por 'POA' não ser um vizinho de 'NAT' não temos voo diretos entre os dois. "
      ]
    },
    {
      "cell_type": "markdown",
      "metadata": {
        "id": "ar_ZkYsnvbDW"
      },
      "source": [
        "2. Sendo assim, qual o menor número de conexões que fariamos caso desejassemos realizar essa viagem?"
      ]
    },
    {
      "cell_type": "code",
      "metadata": {
        "colab": {
          "base_uri": "https://localhost:8080/"
        },
        "id": "tq5q7ptUvmVi",
        "outputId": "c70342db-ff51-43d1-c43e-dbdf485789cb"
      },
      "source": [
        "nx.shortest_path(G, 'NAT', 'POA')"
      ],
      "execution_count": 16,
      "outputs": [
        {
          "output_type": "execute_result",
          "data": {
            "text/plain": [
              "['NAT', 'BSB', 'POA']"
            ]
          },
          "metadata": {
            "tags": []
          },
          "execution_count": 16
        }
      ]
    },
    {
      "cell_type": "markdown",
      "metadata": {
        "id": "6vARJxIdwjEt"
      },
      "source": [
        "O menor caminho seria partindo de Natal, indo para Brasilia, para depois partir para Porto Alegre."
      ]
    },
    {
      "cell_type": "markdown",
      "metadata": {
        "id": "qGqkt5Z8vqhb"
      },
      "source": [
        "3. Quais os voos diretos que temos partindo de Natal?"
      ]
    },
    {
      "cell_type": "code",
      "metadata": {
        "colab": {
          "base_uri": "https://localhost:8080/"
        },
        "id": "vFgFYhAtvuia",
        "outputId": "86511d1b-5901-425d-a6cc-6bbd1527a058"
      },
      "source": [
        "set(nx.neighbors(G, 'NAT'))"
      ],
      "execution_count": 14,
      "outputs": [
        {
          "output_type": "execute_result",
          "data": {
            "text/plain": [
              "{'BSB', 'CNF', 'FEN', 'FOR', 'GIG', 'GRU', 'REC', 'SSA', 'VCP'}"
            ]
          },
          "metadata": {
            "tags": []
          },
          "execution_count": 14
        }
      ]
    },
    {
      "cell_type": "markdown",
      "metadata": {
        "id": "RePo_Cggwtmc"
      },
      "source": [
        "Sendo assim, temos que saem 9 voos diretos de Natal para outros aeroportos."
      ]
    }
  ]
}